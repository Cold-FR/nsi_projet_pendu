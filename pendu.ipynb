{
 "cells": [
  {
   "cell_type": "markdown",
   "metadata": {},
   "source": [
    "### Le jeu du pendu\n",
    "Il s'agit de coder ici un jeu du pendu pour deviner un mot parmi la liste de mots proposée dans le fichier mots.txt. Un bout de code déjà écrit vous permet d'obtenir la liste de ces mots ainsi que les différents états possibles.\n",
    "  * Un humain doit pouvoir jouer et voir sa progression:\n",
    "    * Les lettres déjà proposées\n",
    "    * L'avancée du mot\n",
    "    * l'état de son pendu\n",
    "    * le nombre de coups restants\n",
    "  * Proposer une IA qui peut jouer toute seule. Tenter de la rendre plus intelligente que simplement proposer des lettres au hasard.\n",
    "  * Options:\n",
    "    * Comparer deux stratégies d'IA.\n",
    "    * Coder la partie humain en web à l'aide d'un serveur et d'un formulaire"
   ]
  },
  {
   "cell_type": "code",
   "execution_count": null,
   "metadata": {},
   "outputs": [],
   "source": [
    "from game import game\n",
    "\n",
    "human = True\n",
    "strategy = 1\n",
    "IAOrHuman = input('Voulez-vous faire jouer l\\'IA ? (Réponses : \"Oui\" ou \"Non\" (Par défaut) : ')\n",
    "if IAOrHuman.lower() == 'oui':\n",
    "    human = False\n",
    "    strategy = int(input('Quelle stratégie voulez-vous utiliser ? (Réponses : \"1\" ou \"2\") : '))\n",
    "\n",
    "game(human, strategy)"
   ]
  },
  {
   "cell_type": "code",
   "execution_count": null,
   "metadata": {},
   "outputs": [],
   "source": []
  }
 ],
 "metadata": {
  "interpreter": {
   "hash": "63fd5069d213b44bf678585dea6b12cceca9941eaf7f819626cde1f2670de90d"
  },
  "kernelspec": {
   "display_name": "Python 3",
   "language": "python",
   "name": "python3"
  },
  "language_info": {
   "codemirror_mode": {
    "name": "ipython",
    "version": 3
   },
   "file_extension": ".py",
   "mimetype": "text/x-python",
   "name": "python",
   "nbconvert_exporter": "python",
   "pygments_lexer": "ipython3",
   "version": "3.9.0"
  }
 },
 "nbformat": 4,
 "nbformat_minor": 2
}
